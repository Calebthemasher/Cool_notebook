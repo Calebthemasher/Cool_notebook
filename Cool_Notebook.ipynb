{
 "cells": [
  {
   "cell_type": "markdown",
   "metadata": {},
   "source": [
    "<center>\n",
    "    <img src=\"https://cf-courses-data.s3.us.cloud-object-storage.appdomain.cloud/IBMDeveloperSkillsNetwork-DS0105EN-SkillsNetwork/labs/Module2/images/SN_web_lightmode.png\" width=\"300\" alt=\"cognitiveclass.ai logo\">\n",
    "</center>\n"
   ]
  },
  {
   "cell_type": "markdown",
   "metadata": {},
   "source": [
    "#### Add your code below following the instructions given in the course\n"
   ]
  },
  {
   "cell_type": "markdown",
   "metadata": {},
   "source": [
    "# Cool Notebook"
   ]
  },
  {
   "cell_type": "markdown",
   "metadata": {},
   "source": [
    "## Data Science Languages\n",
    "\n",
    "- Python\n",
    "- R\n",
    "- SQL\n",
    "- Julia\n",
    "- Scala"
   ]
  },
  {
   "cell_type": "markdown",
   "metadata": {},
   "source": [
    "## Data Science Libraries\n",
    "\n",
    "- **Python**:\n",
    "  - Pandas\n",
    "  - NumPy\n",
    "  - Scikit-learn\n",
    "  - TensorFlow\n",
    "  - Matplotlib\n",
    "- **R**:\n",
    "  - dplyr\n",
    "  - ggplot2\n",
    "  - caret\n",
    "- **Others**:\n",
    "  - Apache Spark (Scala, Python)\n",
    "  - SQLAlchemy (Python, SQL)"
   ]
  },
  {
   "cell_type": "markdown",
   "metadata": {},
   "source": [
    "## Data Science Tools\n",
    "\n",
    "| Tool           | Description                              | Primary Language |\n",
    "|----------------|------------------------------------------|------------------|\n",
    "| Jupyter Notebook | Interactive coding environment           | Python, R, Julia |\n",
    "| RStudio        | IDE for R programming                    | R                |\n",
    "| Apache Spark   | Big data processing framework            | Scala, Python    |\n",
    "| Tableau        | Data visualization and analytics         | N/A              |\n",
    "| TensorFlow     | Machine learning framework               | Python           |"
   ]
  },
  {
   "cell_type": "markdown",
   "metadata": {},
   "source": [
    "## Arithmetic Expression Examples\n",
    "\n",
    "Below are examples of basic arithmetic operations used in data science and programming. These include addition: 2+2, subtraction: 4-2, multiplication: 10*3, and division: 10/2, which form the foundation for more complex computations."
   ]
  },
  {
   "cell_type": "code",
   "execution_count": 3,
   "metadata": {},
   "outputs": [
    {
     "name": "stdout",
     "output_type": "stream",
     "text": [
      "Multiplication: 15\n",
      "Addition: 8\n"
     ]
    }
   ],
   "source": [
    "# Multiplication and addition examples\n",
    "a = 5\n",
    "b = 3\n",
    "multiplication = a * b  # Multiply 5 by 3\n",
    "addition = a + b       # Add 5 and 3\n",
    "print(f\"Multiplication: {multiplication}\")  # Output: 15\n",
    "print(f\"Addition: {addition}\")              # Output: 8"
   ]
  },
  {
   "cell_type": "code",
   "execution_count": 4,
   "metadata": {},
   "outputs": [
    {
     "name": "stdout",
     "output_type": "stream",
     "text": [
      "150 minutes equals 2.5 hours\n"
     ]
    }
   ],
   "source": [
    "# Convert minutes to hours\n",
    "minutes = 150\n",
    "hours = minutes / 60  # Divide minutes by 60 to get hours\n",
    "print(f\"{minutes} minutes equals {hours} hours\")  # Output: 150 minutes equals 2.5 hours"
   ]
  },
  {
   "cell_type": "markdown",
   "metadata": {},
   "source": [
    "## Objectives\n",
    "\n",
    "- Learn basic Markdown syntax for formatting text and code.\n",
    "- Understand how to represent arithmetic operations, including division, in Markdown and code.\n",
    "- Create Markdown tables to organize data science tools and calculations.\n",
    "- Write Python code for multiplication, addition, and time conversion (minutes to hours).\n",
    "- Explore data science languages, libraries, and tools through structured documentation."
   ]
  },
  {
   "cell_type": "markdown",
   "metadata": {},
   "source": [
    "### Authors name:\n",
    "\n",
    "- Caleb Tasker"
   ]
  }
 ],
 "metadata": {
  "kernelspec": {
   "display_name": "Python 3 (ipykernel)",
   "language": "python",
   "name": "python3"
  },
  "language_info": {
   "codemirror_mode": {
    "name": "ipython",
    "version": 3
   },
   "file_extension": ".py",
   "mimetype": "text/x-python",
   "name": "python",
   "nbconvert_exporter": "python",
   "pygments_lexer": "ipython3",
   "version": "3.12.8"
  }
 },
 "nbformat": 4,
 "nbformat_minor": 4
}
